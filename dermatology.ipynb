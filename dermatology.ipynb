{
 "cells": [
  {
   "cell_type": "markdown",
   "metadata": {},
   "source": [
    "\n",
    "## Anjali Aggarwal"
   ]
  },
  {
   "cell_type": "markdown",
   "metadata": {},
   "source": [
    "## Problem :  To Predict types of erythamato- Squamous disease \n",
    "### Multiclass classification Problem\n"
   ]
  },
  {
   "cell_type": "code",
   "execution_count": 1,
   "metadata": {},
   "outputs": [],
   "source": [
    "# Loading all the required python libraries\n",
    "import numpy as np\n",
    "import pandas as pd\n",
    "import matplotlib.pyplot as plt\n",
    "%matplotlib inline\n",
    "from sklearn.model_selection import train_test_split\n",
    "from sklearn.preprocessing import StandardScaler\n",
    "from sklearn.preprocessing import LabelEncoder\n",
    "from sklearn.naive_bayes import GaussianNB\n",
    "from sklearn.preprocessing import label_binarize\n",
    "from sklearn.multiclass import OneVsRestClassifier\n",
    "from sklearn.metrics import *"
   ]
  },
  {
   "cell_type": "code",
   "execution_count": 2,
   "metadata": {},
   "outputs": [],
   "source": [
    "# Data is pulled from the UCI machine learning repository, dermatology dataset\n",
    "url = \"https://archive.ics.uci.edu/ml/machine-learning-databases/dermatology/dermatology.data\"\n",
    "df = pd.read_csv(url, header = None)# readin data into pandas dataframe"
   ]
  },
  {
   "cell_type": "code",
   "execution_count": 3,
   "metadata": {},
   "outputs": [],
   "source": [
    "header = [\"erythema\", \"scaling\", \"borders\", \"itching\", \"koebner\",\\\n",
    "          \"polygonal papules\", \"follicular papules\", \"oral mucosal\",\\\n",
    "          \"knee and elbow\", \"scalp\", \"history\", \"melanin incontinence\",\\\n",
    "          \"eosinophils\", \"PNL\", \"fibrosis\",\\\n",
    "          \"exocytosis\", \"acanthosis\", \"hyperkeratosis\", \"parakeratosis\", \"clubbing\",\\\n",
    "          \"elongation\", \"thinning\",\"spongiform pustule\", \"microabcess\",\\\n",
    "          \"hypergranulosis\", \"granular layer\", \"vacuolisation\",\\\n",
    "          \"spongiosis\", \"saw-tooth\", \"plug\", \"perifollicular parakeratosis\",\\\n",
    "          \"inflammatory\",\"band-like\", \"Age\", \"Diagnosis\"]\n",
    "diagnosis = [\"psoriasis\", \"seborrheic\", \"LP\", \"rosea\",\\\n",
    "             \"dermatitis\", \"PRP\"]"
   ]
  },
  {
   "cell_type": "code",
   "execution_count": 4,
   "metadata": {},
   "outputs": [
    {
     "data": {
      "text/html": [
       "<div>\n",
       "<style scoped>\n",
       "    .dataframe tbody tr th:only-of-type {\n",
       "        vertical-align: middle;\n",
       "    }\n",
       "\n",
       "    .dataframe tbody tr th {\n",
       "        vertical-align: top;\n",
       "    }\n",
       "\n",
       "    .dataframe thead th {\n",
       "        text-align: right;\n",
       "    }\n",
       "</style>\n",
       "<table border=\"1\" class=\"dataframe\">\n",
       "  <thead>\n",
       "    <tr style=\"text-align: right;\">\n",
       "      <th></th>\n",
       "      <th>erythema</th>\n",
       "      <th>scaling</th>\n",
       "      <th>borders</th>\n",
       "      <th>itching</th>\n",
       "      <th>koebner</th>\n",
       "      <th>polygonal papules</th>\n",
       "      <th>follicular papules</th>\n",
       "      <th>oral mucosal</th>\n",
       "      <th>knee and elbow</th>\n",
       "      <th>scalp</th>\n",
       "      <th>...</th>\n",
       "      <th>granular layer</th>\n",
       "      <th>vacuolisation</th>\n",
       "      <th>spongiosis</th>\n",
       "      <th>saw-tooth</th>\n",
       "      <th>plug</th>\n",
       "      <th>perifollicular parakeratosis</th>\n",
       "      <th>inflammatory</th>\n",
       "      <th>band-like</th>\n",
       "      <th>Age</th>\n",
       "      <th>Diagnosis</th>\n",
       "    </tr>\n",
       "  </thead>\n",
       "  <tbody>\n",
       "    <tr>\n",
       "      <th>0</th>\n",
       "      <td>2</td>\n",
       "      <td>2</td>\n",
       "      <td>0</td>\n",
       "      <td>3</td>\n",
       "      <td>0</td>\n",
       "      <td>0</td>\n",
       "      <td>0</td>\n",
       "      <td>0</td>\n",
       "      <td>1</td>\n",
       "      <td>0</td>\n",
       "      <td>...</td>\n",
       "      <td>0</td>\n",
       "      <td>0</td>\n",
       "      <td>3</td>\n",
       "      <td>0</td>\n",
       "      <td>0</td>\n",
       "      <td>0</td>\n",
       "      <td>1</td>\n",
       "      <td>0</td>\n",
       "      <td>55</td>\n",
       "      <td>2</td>\n",
       "    </tr>\n",
       "    <tr>\n",
       "      <th>1</th>\n",
       "      <td>3</td>\n",
       "      <td>3</td>\n",
       "      <td>3</td>\n",
       "      <td>2</td>\n",
       "      <td>1</td>\n",
       "      <td>0</td>\n",
       "      <td>0</td>\n",
       "      <td>0</td>\n",
       "      <td>1</td>\n",
       "      <td>1</td>\n",
       "      <td>...</td>\n",
       "      <td>0</td>\n",
       "      <td>0</td>\n",
       "      <td>0</td>\n",
       "      <td>0</td>\n",
       "      <td>0</td>\n",
       "      <td>0</td>\n",
       "      <td>1</td>\n",
       "      <td>0</td>\n",
       "      <td>8</td>\n",
       "      <td>1</td>\n",
       "    </tr>\n",
       "    <tr>\n",
       "      <th>2</th>\n",
       "      <td>2</td>\n",
       "      <td>1</td>\n",
       "      <td>2</td>\n",
       "      <td>3</td>\n",
       "      <td>1</td>\n",
       "      <td>3</td>\n",
       "      <td>0</td>\n",
       "      <td>3</td>\n",
       "      <td>0</td>\n",
       "      <td>0</td>\n",
       "      <td>...</td>\n",
       "      <td>0</td>\n",
       "      <td>2</td>\n",
       "      <td>3</td>\n",
       "      <td>2</td>\n",
       "      <td>0</td>\n",
       "      <td>0</td>\n",
       "      <td>2</td>\n",
       "      <td>3</td>\n",
       "      <td>26</td>\n",
       "      <td>3</td>\n",
       "    </tr>\n",
       "    <tr>\n",
       "      <th>3</th>\n",
       "      <td>2</td>\n",
       "      <td>2</td>\n",
       "      <td>2</td>\n",
       "      <td>0</td>\n",
       "      <td>0</td>\n",
       "      <td>0</td>\n",
       "      <td>0</td>\n",
       "      <td>0</td>\n",
       "      <td>3</td>\n",
       "      <td>2</td>\n",
       "      <td>...</td>\n",
       "      <td>3</td>\n",
       "      <td>0</td>\n",
       "      <td>0</td>\n",
       "      <td>0</td>\n",
       "      <td>0</td>\n",
       "      <td>0</td>\n",
       "      <td>3</td>\n",
       "      <td>0</td>\n",
       "      <td>40</td>\n",
       "      <td>1</td>\n",
       "    </tr>\n",
       "    <tr>\n",
       "      <th>4</th>\n",
       "      <td>2</td>\n",
       "      <td>3</td>\n",
       "      <td>2</td>\n",
       "      <td>2</td>\n",
       "      <td>2</td>\n",
       "      <td>2</td>\n",
       "      <td>0</td>\n",
       "      <td>2</td>\n",
       "      <td>0</td>\n",
       "      <td>0</td>\n",
       "      <td>...</td>\n",
       "      <td>2</td>\n",
       "      <td>3</td>\n",
       "      <td>2</td>\n",
       "      <td>3</td>\n",
       "      <td>0</td>\n",
       "      <td>0</td>\n",
       "      <td>2</td>\n",
       "      <td>3</td>\n",
       "      <td>45</td>\n",
       "      <td>3</td>\n",
       "    </tr>\n",
       "  </tbody>\n",
       "</table>\n",
       "<p>5 rows × 35 columns</p>\n",
       "</div>"
      ],
      "text/plain": [
       "   erythema  scaling  borders  itching  koebner  polygonal papules  \\\n",
       "0         2        2        0        3        0                  0   \n",
       "1         3        3        3        2        1                  0   \n",
       "2         2        1        2        3        1                  3   \n",
       "3         2        2        2        0        0                  0   \n",
       "4         2        3        2        2        2                  2   \n",
       "\n",
       "   follicular papules  oral mucosal  knee and elbow  scalp    ...      \\\n",
       "0                   0             0               1      0    ...       \n",
       "1                   0             0               1      1    ...       \n",
       "2                   0             3               0      0    ...       \n",
       "3                   0             0               3      2    ...       \n",
       "4                   0             2               0      0    ...       \n",
       "\n",
       "   granular layer  vacuolisation  spongiosis  saw-tooth  plug  \\\n",
       "0               0              0           3          0     0   \n",
       "1               0              0           0          0     0   \n",
       "2               0              2           3          2     0   \n",
       "3               3              0           0          0     0   \n",
       "4               2              3           2          3     0   \n",
       "\n",
       "   perifollicular parakeratosis  inflammatory  band-like  Age  Diagnosis  \n",
       "0                             0             1          0   55          2  \n",
       "1                             0             1          0    8          1  \n",
       "2                             0             2          3   26          3  \n",
       "3                             0             3          0   40          1  \n",
       "4                             0             2          3   45          3  \n",
       "\n",
       "[5 rows x 35 columns]"
      ]
     },
     "execution_count": 4,
     "metadata": {},
     "output_type": "execute_result"
    }
   ],
   "source": [
    "df.columns = header # changing the name of columns\n",
    "df.head()# checking first five rows of the dataset"
   ]
  },
  {
   "cell_type": "code",
   "execution_count": 5,
   "metadata": {},
   "outputs": [
    {
     "name": "stdout",
     "output_type": "stream",
     "text": [
      "(366, 35)\n",
      "erythema                         int64\n",
      "scaling                          int64\n",
      "borders                          int64\n",
      "itching                          int64\n",
      "koebner                          int64\n",
      "polygonal papules                int64\n",
      "follicular papules               int64\n",
      "oral mucosal                     int64\n",
      "knee and elbow                   int64\n",
      "scalp                            int64\n",
      "history                          int64\n",
      "melanin incontinence             int64\n",
      "eosinophils                      int64\n",
      "PNL                              int64\n",
      "fibrosis                         int64\n",
      "exocytosis                       int64\n",
      "acanthosis                       int64\n",
      "hyperkeratosis                   int64\n",
      "parakeratosis                    int64\n",
      "clubbing                         int64\n",
      "elongation                       int64\n",
      "thinning                         int64\n",
      "spongiform pustule               int64\n",
      "microabcess                      int64\n",
      "hypergranulosis                  int64\n",
      "granular layer                   int64\n",
      "vacuolisation                    int64\n",
      "spongiosis                       int64\n",
      "saw-tooth                        int64\n",
      "plug                             int64\n",
      "perifollicular parakeratosis     int64\n",
      "inflammatory                     int64\n",
      "band-like                        int64\n",
      "Age                             object\n",
      "Diagnosis                        int64\n",
      "dtype: object\n"
     ]
    }
   ],
   "source": [
    "print(df.shape)# checking number of rows and columns\n",
    "print(df.dtypes)# checking datatype"
   ]
  },
  {
   "cell_type": "code",
   "execution_count": 6,
   "metadata": {},
   "outputs": [
    {
     "data": {
      "text/plain": [
       "array(['55', '8', '26', '40', '45', '41', '18', '57', '22', '30', '20',\n",
       "       '21', '10', '65', '38', '23', '17', '51', '42', '44', '33', '43',\n",
       "       '50', '34', '?', '15', '46', '62', '35', '48', '12', '52', '60',\n",
       "       '32', '19', '29', '25', '36', '13', '27', '31', '28', '64', '39',\n",
       "       '47', '16', '0', '7', '70', '37', '61', '67', '56', '53', '24',\n",
       "       '58', '49', '63', '68', '9', '75'], dtype=object)"
      ]
     },
     "execution_count": 6,
     "metadata": {},
     "output_type": "execute_result"
    }
   ],
   "source": [
    "df.loc[:,'Age'].unique()#checking uniques value in Age column"
   ]
  },
  {
   "cell_type": "markdown",
   "metadata": {},
   "source": [
    "#### Removing missing values "
   ]
  },
  {
   "cell_type": "code",
   "execution_count": 7,
   "metadata": {},
   "outputs": [],
   "source": [
    "df.loc[:, \"Age\"] = df.loc[:, \"Age\"].replace(to_replace=\"?\", value=float(\"NaN\"))#converting \"?\" to \"Nan\""
   ]
  },
  {
   "cell_type": "code",
   "execution_count": 8,
   "metadata": {},
   "outputs": [
    {
     "data": {
      "text/plain": [
       "8"
      ]
     },
     "execution_count": 8,
     "metadata": {},
     "output_type": "execute_result"
    }
   ],
   "source": [
    "df.loc[:, \"Age\"].isnull().sum()#count for Nan values in the Age column"
   ]
  },
  {
   "cell_type": "code",
   "execution_count": 9,
   "metadata": {},
   "outputs": [],
   "source": [
    "df = df.dropna(axis=0)# removing the rows with NaN values in the dataframe"
   ]
  },
  {
   "cell_type": "code",
   "execution_count": 10,
   "metadata": {},
   "outputs": [
    {
     "data": {
      "text/plain": [
       "dtype('O')"
      ]
     },
     "execution_count": 10,
     "metadata": {},
     "output_type": "execute_result"
    }
   ],
   "source": [
    "df.loc[:, \"Age\"].dtypes"
   ]
  },
  {
   "cell_type": "code",
   "execution_count": 11,
   "metadata": {},
   "outputs": [],
   "source": [
    "df.loc[:,\"Age\"] = df.loc[:,\"Age\"].astype(int)#Cast \"Age\" to integer"
   ]
  },
  {
   "cell_type": "markdown",
   "metadata": {},
   "source": [
    "#### Removing outliner"
   ]
  },
  {
   "cell_type": "code",
   "execution_count": 12,
   "metadata": {},
   "outputs": [
    {
     "data": {
      "text/plain": [
       "(array([ 5., 21., 53., 46., 73., 45., 60., 24., 25.,  6.]),\n",
       " array([ 0. ,  7.5, 15. , 22.5, 30. , 37.5, 45. , 52.5, 60. , 67.5, 75. ]),\n",
       " <a list of 10 Patch objects>)"
      ]
     },
     "execution_count": 12,
     "metadata": {},
     "output_type": "execute_result"
    },
    {
     "data": {
      "image/png": "[encoded data removed]",
      "text/plain": [
       "<Figure size 432x288 with 1 Axes>"
      ]
     },
     "metadata": {},
     "output_type": "display_data"
    }
   ],
   "source": [
    "plt.hist(df.loc[:,'Age'])#chekcing distribution of data in Age column"
   ]
  },
  {
   "cell_type": "code",
   "execution_count": 13,
   "metadata": {},
   "outputs": [],
   "source": [
    "df = df[df.loc[: , \"Age\"]  > 0]# keeping values greater than 0"
   ]
  },
  {
   "cell_type": "code",
   "execution_count": 14,
   "metadata": {},
   "outputs": [
    {
     "data": {
      "text/plain": [
       "<matplotlib.axes._subplots.AxesSubplot at 0x149bcf14630>"
      ]
     },
     "execution_count": 14,
     "metadata": {},
     "output_type": "execute_result"
    },
    {
     "data": {
      "image/png": "[encoded data removed]",
      "text/plain": [
       "<Figure size 432x288 with 1 Axes>"
      ]
     },
     "metadata": {},
     "output_type": "display_data"
    }
   ],
   "source": [
    "df['Diagnosis'].value_counts().sort_values().plot.bar()#checking distribution of target feature"
   ]
  },
  {
   "cell_type": "markdown",
   "metadata": {},
   "source": [
    "### Decoding all the columns - data is ordinal except Age and "
   ]
  },
  {
   "cell_type": "code",
   "execution_count": 15,
   "metadata": {},
   "outputs": [],
   "source": [
    "for element in header:\n",
    "    if (element != \"Age\")and (element != \"History\") and (element != \"Diagnosis\"):\n",
    "        df.loc[df.loc[:, element]== 0, element] = \"absent\"\n",
    "        df.loc[df.loc[:, element]== 1, element] = \"Low\"\n",
    "        df.loc[df.loc[:, element]== 2, element] = \"Medium\"\n",
    "        df.loc[df.loc[:, element]== 3, element] = \"High\"\n",
    "    elif (element == \"history\"):\n",
    "        dataset.loc[dataset.loc[:, element] == 0, element] = \"NO\"\n",
    "        dataset.loc[dataset.loc[:, element] == 1, element] = \"YES\"\n",
    "    elif (element == \"Diagnosis\"):\n",
    "        df.loc[df.loc[:, element]== 1, element] = \"diagnosis[0]\"\n",
    "        df.loc[df.loc[:, element]== 2, element] = \"diagnosis[1]\"\n",
    "        df.loc[df.loc[:, element]== 3, element] = \"diagnosis[2]\"\n",
    "        df.loc[df.loc[:, element]== 4, element] = \"diagnosis[3]\"\n",
    "        df.loc[df.loc[:, element]== 5, element] = \"diagnosis[4]\"\n",
    "        df.loc[df.loc[:, element]== 6, element] = \"diagnosis[5]\"\n",
    "    else:\n",
    "        pass"
   ]
  },
  {
   "cell_type": "markdown",
   "metadata": {},
   "source": [
    "### Consolidating categories if possible"
   ]
  },
  {
   "cell_type": "code",
   "execution_count": 16,
   "metadata": {},
   "outputs": [
    {
     "name": "stdout",
     "output_type": "stream",
     "text": [
      "Medium    210\n",
      "High       90\n",
      "Low        53\n",
      "absent      4\n",
      "Name: erythema, dtype: int64\n",
      "Medium    193\n",
      "Low       104\n",
      "High       52\n",
      "absent      8\n",
      "Name: scaling, dtype: int64\n",
      "Medium    167\n",
      "Low        89\n",
      "absent     55\n",
      "High       46\n",
      "Name: borders, dtype: int64\n",
      "absent    116\n",
      "Medium     97\n",
      "High       73\n",
      "Low        71\n",
      "Name: itching, dtype: int64\n",
      "absent    218\n",
      "Low        69\n",
      "Medium     52\n",
      "High       18\n",
      "Name: koebner, dtype: int64\n",
      "absent    289\n",
      "Medium     41\n",
      "High       26\n",
      "Low         1\n",
      "Name: polygonal papules, dtype: int64\n",
      "absent    324\n",
      "Medium     16\n",
      "Low        11\n",
      "High        6\n",
      "Name: follicular papules, dtype: int64\n",
      "absent    291\n",
      "Medium     44\n",
      "High       13\n",
      "Low         9\n",
      "Name: oral mucosal, dtype: int64\n",
      "absent    245\n",
      "Medium     63\n",
      "Low        26\n",
      "High       23\n",
      "Name: knee and elbow, dtype: int64\n",
      "absent    256\n",
      "Medium     55\n",
      "Low        30\n",
      "High       16\n",
      "Name: scalp, dtype: int64\n",
      "absent    313\n",
      "Low        44\n",
      "Name: history, dtype: int64\n",
      "absent    288\n",
      "Medium     46\n",
      "High       16\n",
      "Low         7\n",
      "Name: melanin incontinence, dtype: int64\n",
      "absent    315\n",
      "Low        33\n",
      "Medium      9\n",
      "Name: eosinophils, dtype: int64\n",
      "absent    229\n",
      "Low        69\n",
      "Medium     52\n",
      "High        7\n",
      "Name: PNL, dtype: int64\n",
      "absent    307\n",
      "High       21\n",
      "Medium     21\n",
      "Low         8\n",
      "Name: fibrosis, dtype: int64\n",
      "Medium    125\n",
      "absent    116\n",
      "High       62\n",
      "Low        54\n",
      "Name: exocytosis, dtype: int64\n",
      "Medium    208\n",
      "High       71\n",
      "Low        69\n",
      "absent      9\n",
      "Name: acanthosis, dtype: int64\n",
      "absent    227\n",
      "Low        83\n",
      "Medium     42\n",
      "High        5\n",
      "Name: hyperkeratosis, dtype: int64\n",
      "Medium    128\n",
      "Low       114\n",
      "absent     85\n",
      "High       30\n",
      "Name: parakeratosis, dtype: int64\n",
      "absent    248\n",
      "Medium     58\n",
      "High       34\n",
      "Low        17\n",
      "Name: clubbing, dtype: int64\n",
      "absent    195\n",
      "Medium     92\n",
      "High       48\n",
      "Low        22\n",
      "Name: elongation, dtype: int64\n",
      "absent    249\n",
      "Medium     59\n",
      "High       31\n",
      "Low        18\n",
      "Name: thinning, dtype: int64\n",
      "absent    288\n",
      "Low        37\n",
      "Medium     26\n",
      "High        6\n",
      "Name: spongiform pustule, dtype: int64\n",
      "absent    279\n",
      "Low        36\n",
      "Medium     32\n",
      "High       10\n",
      "Name: microabcess, dtype: int64\n",
      "absent    287\n",
      "Medium     43\n",
      "High       15\n",
      "Low        12\n",
      "Name: hypergranulosis, dtype: int64\n",
      "absent    264\n",
      "Medium     49\n",
      "Low        30\n",
      "High       14\n",
      "Name: granular layer, dtype: int64\n",
      "absent    286\n",
      "Medium     42\n",
      "High       26\n",
      "Low         3\n",
      "Name: vacuolisation, dtype: int64\n",
      "absent    194\n",
      "Medium     93\n",
      "High       42\n",
      "Low        28\n",
      "Name: spongiosis, dtype: int64\n",
      "absent    286\n",
      "Medium     39\n",
      "High       27\n",
      "Low         5\n",
      "Name: saw-tooth, dtype: int64\n",
      "absent    335\n",
      "Low        10\n",
      "Medium      8\n",
      "High        4\n",
      "Name: plug, dtype: int64\n",
      "absent    336\n",
      "Medium     13\n",
      "High        4\n",
      "Low         4\n",
      "Name: perifollicular parakeratosis, dtype: int64\n",
      "Medium    205\n",
      "Low        85\n",
      "High       59\n",
      "absent      8\n",
      "Name: inflammatory, dtype: int64\n",
      "absent    282\n",
      "High       51\n",
      "Medium     21\n",
      "Low         3\n",
      "Name: band-like, dtype: int64\n",
      "diagnosis[0]    110\n",
      "diagnosis[2]     71\n",
      "diagnosis[1]     60\n",
      "diagnosis[3]     48\n",
      "diagnosis[4]     48\n",
      "diagnosis[5]     20\n",
      "Name: Diagnosis, dtype: int64\n"
     ]
    }
   ],
   "source": [
    "# checking the number of data in each category to determine possibility of consolidation\n",
    "for element in header:\n",
    "    if element != \"Age\":\n",
    "        print(df.loc[:, element].value_counts())   "
   ]
  },
  {
   "cell_type": "code",
   "execution_count": 17,
   "metadata": {},
   "outputs": [],
   "source": [
    "df.loc[df.loc[:, \"band-like\"] == \"Low\", \"band-like\"] = \"absent\"\n",
    "df.loc[df.loc[:, \"perifollicular parakeratosis\"] == \"Low\", \"perifollicular parakeratosis\"] = \"Medium\"  \n",
    "df.loc[df.loc[:, \"plug\"] == \"Medium\", \"plug\"] = \"Low\"\n",
    "df.loc[df.loc[:, \"saw-tooth\"] == \"Low\", \"saw-tooth\"] = \"Medium\"\n",
    "df.loc[df.loc[:, \"vacuolisation\"] == \"Low\", \"vacuolisation\"] = \"Medium\"\n",
    "df.loc[df.loc[:, \"fibrosis\"] == \"Low\", \"fibrosis\"] = \"Medium\"\n",
    "df.loc[df.loc[:, \"eosinophils\"] == \"Medium\",\"eosinophils\" ] = \"Low\"\n",
    "df.loc[df.loc[:, \"melanin incontinence\"] == \"Low\", \"melanin incontinence\"] = \"Medium\"\n",
    "df.loc[df.loc[:, \"oral mucosal\"] == \"Low\",  \"oral mucosal\"] = \"Medium\"\n",
    "df.loc[df.loc[:, \"polygonal papules\"] == \"Low\", \"polygonal papules\"] = \"absent\""
   ]
  },
  {
   "cell_type": "markdown",
   "metadata": {},
   "source": [
    "### One-hot encoding for a categorical column "
   ]
  },
  {
   "cell_type": "code",
   "execution_count": 18,
   "metadata": {},
   "outputs": [],
   "source": [
    "for i in header:\n",
    "    if (i != \"Age\") and (i != \"Diagnosis\") and (i != \"history\"):\n",
    "        for element in df.loc[:, i].unique():\n",
    "            df.loc[:, str(i) + str(element)] = (df.loc[:, i] == element).astype(int)"
   ]
  },
  {
   "cell_type": "code",
   "execution_count": 19,
   "metadata": {},
   "outputs": [
    {
     "data": {
      "text/plain": [
       "(357, 152)"
      ]
     },
     "execution_count": 19,
     "metadata": {},
     "output_type": "execute_result"
    }
   ],
   "source": [
    "df.shape"
   ]
  },
  {
   "cell_type": "markdown",
   "metadata": {},
   "source": [
    "#### Remove obsolete columns"
   ]
  },
  {
   "cell_type": "code",
   "execution_count": 20,
   "metadata": {},
   "outputs": [],
   "source": [
    "for i in header:\n",
    "    if (i != \"Age\") and (i != \"Diagnosis\") and (i != \"history\"):\n",
    "        df = df.drop(i, axis = 1)"
   ]
  },
  {
   "cell_type": "code",
   "execution_count": 21,
   "metadata": {},
   "outputs": [
    {
     "data": {
      "text/plain": [
       "(357, 120)"
      ]
     },
     "execution_count": 21,
     "metadata": {},
     "output_type": "execute_result"
    }
   ],
   "source": [
    "df.shape"
   ]
  },
  {
   "cell_type": "code",
   "execution_count": 22,
   "metadata": {},
   "outputs": [],
   "source": [
    "# Encodes the categorical variables in diagnosis\n",
    "labelencoder = LabelEncoder()\n",
    "for i in header:\n",
    "    if (i == \"Diagnosis\") or (i == \"history\"):\n",
    "        df.loc[:, i] = labelencoder.fit_transform(df.loc[:, i])"
   ]
  },
  {
   "cell_type": "code",
   "execution_count": 23,
   "metadata": {},
   "outputs": [],
   "source": [
    "# changes the index of outcome column\n",
    "df = df.reindex(list([a for a in df.columns if a != 'Diagnosis'] + ['Diagnosis']), axis=1)\n"
   ]
  },
  {
   "cell_type": "code",
   "execution_count": 24,
   "metadata": {},
   "outputs": [],
   "source": [
    "n = len(df.columns) # determines the number of columns in dataset\n",
    "X = df.iloc[:, :(n-1)].values\n",
    "Y = df.iloc[:, (n-1)].values\n"
   ]
  },
  {
   "cell_type": "code",
   "execution_count": 25,
   "metadata": {},
   "outputs": [],
   "source": [
    "y = label_binarize(Y, classes=[0, 1, 2, 3, 4, 5]) # binerize target column for calculating fpr, tpr and threshold\n",
    "n_classes = y.shape[1]"
   ]
  },
  {
   "cell_type": "code",
   "execution_count": 26,
   "metadata": {},
   "outputs": [],
   "source": [
    "# shuffle and split training and test sets\n",
    "X_train, X_test, y_train, y_test = train_test_split(X, y, test_size = 0.3)"
   ]
  },
  {
   "cell_type": "code",
   "execution_count": 27,
   "metadata": {},
   "outputs": [
    {
     "name": "stderr",
     "output_type": "stream",
     "text": [
      "C:\\Users\\mittala\\AppData\\Local\\Continuum\\anaconda3\\lib\\site-packages\\sklearn\\utils\\validation.py:475: DataConversionWarning: Data with input dtype int64 was converted to float64 by StandardScaler.\n",
      "  warnings.warn(msg, DataConversionWarning)\n"
     ]
    }
   ],
   "source": [
    "sc = StandardScaler()\n",
    "X_train = sc.fit_transform(X_train)\n",
    "X_test = sc.transform(X_test)"
   ]
  },
  {
   "cell_type": "markdown",
   "metadata": {},
   "source": [
    "## Naive  bayes Classifier"
   ]
  },
  {
   "cell_type": "code",
   "execution_count": 28,
   "metadata": {},
   "outputs": [],
   "source": [
    "classifier = OneVsRestClassifier(GaussianNB())# predict each class against the other       \n",
    "classifier.fit(X_train, y_train)\n",
    "y_predict = classifier.predict(X_test)\n",
    "probas = classifier.predict_proba(X_test)"
   ]
  },
  {
   "cell_type": "markdown",
   "metadata": {},
   "source": [
    "### Accuracy Measures"
   ]
  },
  {
   "cell_type": "code",
   "execution_count": 29,
   "metadata": {
    "scrolled": false
   },
   "outputs": [
    {
     "name": "stdout",
     "output_type": "stream",
     "text": [
      "Confusion matrix (GaussianNB) for class 0 vs other classes: \n",
      " [[71  2]\n",
      " [ 0 35]]\n",
      "GaussianNB | Probability Threshold for class 0 \n",
      " [2. 1. 0.]\n",
      "\n",
      "Precision: 0.946\n",
      "\n",
      "Recall: 1.0\n",
      "\n",
      "F1 score: 0.972\n",
      "Confusion matrix (GaussianNB) for class 1 vs other classes: \n",
      " [[86  2]\n",
      " [ 6 14]]\n",
      "GaussianNB | Probability Threshold for class 1 \n",
      " [2. 1. 0.]\n",
      "\n",
      "Precision: 0.875\n",
      "\n",
      "Recall: 0.7\n",
      "\n",
      "F1 score: 0.778\n",
      "Confusion matrix (GaussianNB) for class 2 vs other classes: \n",
      " [[93  0]\n",
      " [ 2 13]]\n",
      "GaussianNB | Probability Threshold for class 2 \n",
      " [1. 0.]\n",
      "\n",
      "Precision: 1.0\n",
      "\n",
      "Recall: 0.867\n",
      "\n",
      "F1 score: 0.929\n",
      "Confusion matrix (GaussianNB) for class 3 vs other classes: \n",
      " [[88  6]\n",
      " [ 4 10]]\n",
      "GaussianNB | Probability Threshold for class 3 \n",
      " [2. 1. 0.]\n",
      "\n",
      "Precision: 0.625\n",
      "\n",
      "Recall: 0.714\n",
      "\n",
      "F1 score: 0.667\n",
      "Confusion matrix (GaussianNB) for class 4 vs other classes: \n",
      " [[89  0]\n",
      " [ 2 17]]\n",
      "GaussianNB | Probability Threshold for class 4 \n",
      " [1. 0.]\n",
      "\n",
      "Precision: 1.0\n",
      "\n",
      "Recall: 0.895\n",
      "\n",
      "F1 score: 0.944\n",
      "Confusion matrix (GaussianNB) for class 5 vs other classes: \n",
      " [[103   0]\n",
      " [  0   5]]\n",
      "GaussianNB | Probability Threshold for class 5 \n",
      " [1. 0.]\n",
      "\n",
      "Precision: 1.0\n",
      "\n",
      "Recall: 1.0\n",
      "\n",
      "F1 score: 1.0\n"
     ]
    },
    {
     "data": {
      "image/png": "[encoded data removed]",
      "text/plain": [
       "<Figure size 432x288 with 1 Axes>"
      ]
     },
     "metadata": {},
     "output_type": "display_data"
    },
    {
     "data": {
      "image/png": "[encoded data removed]",
      "text/plain": [
       "<Figure size 432x288 with 1 Axes>"
      ]
     },
     "metadata": {},
     "output_type": "display_data"
    },
    {
     "data": {
      "image/png": "[encoded data removed]",
      "text/plain": [
       "<Figure size 432x288 with 1 Axes>"
      ]
     },
     "metadata": {},
     "output_type": "display_data"
    },
    {
     "data": {
      "image/png": "[encoded data removed]",
      "text/plain": [
       "<Figure size 432x288 with 1 Axes>"
      ]
     },
     "metadata": {},
     "output_type": "display_data"
    },
    {
     "data": {
      "image/png": "[encoded data removed]",
      "text/plain": [
       "<Figure size 432x288 with 1 Axes>"
      ]
     },
     "metadata": {},
     "output_type": "display_data"
    },
    {
     "data": {
      "image/png": "[encoded data removed]",
      "text/plain": [
       "<Figure size 432x288 with 1 Axes>"
      ]
     },
     "metadata": {},
     "output_type": "display_data"
    }
   ],
   "source": [
    "\n",
    "# Compute ROC curve for each class\n",
    "fpr = dict()\n",
    "tpr = dict()\n",
    "roc_auc = dict()\n",
    "th = dict()\n",
    "CM = dict()\n",
    "P = dict()\n",
    "R = dict ()\n",
    "F1 = dict()\n",
    "for i in range(n_classes):\n",
    "    fpr[i], tpr[i], th [i] = roc_curve(y_test[:, i], probas[:, i])\n",
    "    roc_auc[i] = auc(fpr[i], tpr[i])\n",
    "    CM[i] = confusion_matrix (y_test[:, i], y_predict[:, i])\n",
    "    print ('Confusion matrix (GaussianNB) for class', i, 'vs other classes: \\n', CM[i])\n",
    "    print ('GaussianNB | Probability Threshold for class', i, '\\n', th[i])\n",
    "    P[i] = precision_score(y_test[:, i], y_predict[:, i])\n",
    "    print (\"\\nPrecision:\", np.round(P[i], 3))\n",
    "    R[i] = recall_score(y_test[:, i], y_predict[:, i])\n",
    "    print (\"\\nRecall:\", np.round(R[i], 3))\n",
    "    F1[i] = f1_score(y_test[:, i], y_predict[:, i])\n",
    "    print (\"\\nF1 score:\", np.round(F1[i], 3))\n",
    "plt.figure()\n",
    "lw = 2 #line width\n",
    "color = ['b', 'r', 'c', 'y', 'm', 'k']\n",
    "for i in range(n_classes):\n",
    "    plt.plot(fpr[i], tpr[i], color= color[i],\\\n",
    "             lw= lw, label='ROC curve of class = %s vs others (AUC = %s)' %(i, np.round(roc_auc[i], 3)), linestyle = ':')\n",
    "    plt.plot([0, 1], [0, 1], color='navy', lw=lw, linestyle='--')\n",
    "    plt.xlim([0.0, 1.0])\n",
    "    plt.ylim([0.0, 1.05])\n",
    "    plt.xlabel('False Positive Rate')\n",
    "    plt.ylabel('True Positive Rate')\n",
    "    plt.title('Receiver operating characteristic of GaussianNB')\n",
    "    plt.legend(loc=\"lower right\")\n",
    "    plt.show()"
   ]
  }
 ],
 "metadata": {
  "kernelspec": {
   "display_name": "Python 3",
   "language": "python",
   "name": "python3"
  },
  "language_info": {
   "codemirror_mode": {
    "name": "ipython",
    "version": 3
   },
   "file_extension": ".py",
   "mimetype": "text/x-python",
   "name": "python",
   "nbconvert_exporter": "python",
   "pygments_lexer": "ipython3",
   "version": "3.6.5"
  }
 },
 "nbformat": 4,
 "nbformat_minor": 2
}
